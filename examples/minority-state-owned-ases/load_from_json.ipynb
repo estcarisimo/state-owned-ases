{
 "cells": [
  {
   "cell_type": "markdown",
   "metadata": {},
   "source": [
    "# 1. Imports"
   ]
  },
  {
   "cell_type": "code",
   "execution_count": 1,
   "metadata": {},
   "outputs": [],
   "source": [
    "import json\n",
    "from pprint import pprint"
   ]
  },
  {
   "cell_type": "markdown",
   "metadata": {},
   "source": [
    "# 2. Load data"
   ]
  },
  {
   "cell_type": "code",
   "execution_count": 2,
   "metadata": {},
   "outputs": [],
   "source": [
    "with open(\"../../data/minority-state-owned-ases/json/minority_state_owned_ases_table_organizations.json\", \"r\") as f:\n",
    "    orgs = json.load(f)"
   ]
  },
  {
   "cell_type": "code",
   "execution_count": 3,
   "metadata": {},
   "outputs": [],
   "source": [
    "with open(\"../../data/minority-state-owned-ases/json/minority_state_owned_ases_table_ases.json\", \"r\") as f:\n",
    "    ases = json.load(f)"
   ]
  },
  {
   "cell_type": "markdown",
   "metadata": {},
   "source": [
    "# 3. Get insights of the dataset"
   ]
  },
  {
   "cell_type": "code",
   "execution_count": 4,
   "metadata": {},
   "outputs": [
    {
     "name": "stdout",
     "output_type": "stream",
     "text": [
      "[{'additional_info': None,\n",
      "  'conglomerate': 'AE-ETISALAT',\n",
      "  'inputs': 'G, E',\n",
      "  'org_id': 'ORG-BAFN1-RIPE',\n",
      "  'org_name': 'Bayanat Al-Oula For Network Services',\n",
      "  'ownership_cc': 'AE',\n",
      "  'ownership_country_name': 'United Arab Emirates',\n",
      "  'ownership_percentage': 27.99,\n",
      "  'parent_org': 'ORG-ETC1-RIPE',\n",
      "  'quote': 'Etihad Etisalat (Mobily) is a Saudi company established in 2004. '\n",
      "           \"The Company's major shareholders are Etisalat Emirates Group \"\n",
      "           '(27.99%) and the General Organization for Social Insurance '\n",
      "           '(11.85%). The remaining shares are owned by institutional and '\n",
      "           'retail investors.',\n",
      "  'quote_lang': 'English',\n",
      "  'rir': 'RIPE',\n",
      "  'source': \"Company's website\",\n",
      "  'target_cc': 'SA',\n",
      "  'target_country_name': 'Saudi Arabia',\n",
      "  'url': 'https://www.mobily.com.sa/wps/portal/personal/about-mobily/overview/!ut/p/z1/jZHBCoJAEIafpYNXZ7Iy6yYRphURWNleYg1TY3Vld1V6-6TwUmTOZfhnvn9gZoBAACSnVRpTlfKcskafiXmxZs5i5a3Rw9kR0T06C3-3nA6diQmnLsB3EEgfP_4Iu4efdCG-Me4GcGv8AfZ_gNeSL6BjCw9IzHj4vqidhyMrBiKiWyQioZeiKSdKFXKuoYZ1XesZD1P20K880yXVsOBCUVY2vUK2qsmRkO2XPmcmXCoIvkZBkR0CTN37hFUb2x4Mno6pRYw!/dz/d5/L2dBISEvZ0FBIS9nQSEh/'},\n",
      " {'additional_info': None,\n",
      "  'conglomerate': 'AF-WIRELESS',\n",
      "  'inputs': 'G, E',\n",
      "  'org_id': 'ORG-AW1-AP-APNIC',\n",
      "  'org_name': 'AWCC',\n",
      "  'ownership_cc': 'AF',\n",
      "  'ownership_country_name': 'Afghanistan',\n",
      "  'ownership_percentage': 20.0,\n",
      "  'parent_org': None,\n",
      "  'quote': 'Afghan Wireless is a joint venture between the Bayat Group (80%) '\n",
      "           'and Afghan Ministry of Communications (20%).',\n",
      "  'quote_lang': 'English',\n",
      "  'rir': 'APNIC',\n",
      "  'source': \"Company's website\",\n",
      "  'target_cc': None,\n",
      "  'target_country_name': None,\n",
      "  'url': 'https://afghan-wireless.com/about-us/'},\n",
      " {'additional_info': None,\n",
      "  'conglomerate': 'AL-ALBTELECOM',\n",
      "  'inputs': 'G, E, W',\n",
      "  'org_id': 'ORG-AS1-RIPE',\n",
      "  'org_name': 'Albtelecom Sh.a.',\n",
      "  'ownership_cc': 'AL',\n",
      "  'ownership_country_name': 'Albania',\n",
      "  'ownership_percentage': 16.7,\n",
      "  'parent_org': None,\n",
      "  'quote': 'The years 2000 found ALBtelecom in a new phase, that of '\n",
      "           'preparations for privatization. CETEL Telekom, consisting of one '\n",
      "           'of the largest companies in Turkey, Çalik Group (80% of the '\n",
      "           'shares), and Turk Telekom (20% of the shares), purchased 76% of '\n",
      "           'ALBtelecom shares, whereas the remaining share of 24 % is owned by '\n",
      "           'Albanian government and other shareholders.',\n",
      "  'quote_lang': 'English',\n",
      "  'rir': 'RIPE',\n",
      "  'source': \"Company's website\",\n",
      "  'target_cc': None,\n",
      "  'target_country_name': None,\n",
      "  'url': 'https://www.albtelecom.al/en/about-albtelecom/about-us/history/'}]\n"
     ]
    }
   ],
   "source": [
    "pprint(orgs[:3])"
   ]
  },
  {
   "cell_type": "code",
   "execution_count": 5,
   "metadata": {},
   "outputs": [
    {
     "name": "stdout",
     "output_type": "stream",
     "text": [
      "[{'asn': [12455], 'org_id': '@aut-12455-RIPE'},\n",
      " {'asn': [15706], 'org_id': '@aut-15706-RIPE'},\n",
      " {'asn': [4782, 7481, 9680, 17419, 17421, 18184, 131598],\n",
      "  'org_id': '@aut-17421-APNIC'}]\n"
     ]
    }
   ],
   "source": [
    "pprint(ases[:3])"
   ]
  },
  {
   "cell_type": "code",
   "execution_count": 6,
   "metadata": {},
   "outputs": [
    {
     "name": "stdout",
     "output_type": "stream",
     "text": [
      "The organization JSON file cointains 39 records\n",
      "The ASes JSON file cointains 39 records\n"
     ]
    }
   ],
   "source": [
    "print(f\"The organization JSON file cointains {len(orgs)} records\")\n",
    "print(f\"The ASes JSON file cointains {len(ases)} records\")"
   ]
  }
 ],
 "metadata": {
  "kernelspec": {
   "display_name": ".state-owned-ases",
   "language": "python",
   "name": ".state-owned-ases"
  },
  "language_info": {
   "codemirror_mode": {
    "name": "ipython",
    "version": 3
   },
   "file_extension": ".py",
   "mimetype": "text/x-python",
   "name": "python",
   "nbconvert_exporter": "python",
   "pygments_lexer": "ipython3",
   "version": "3.8.10"
  }
 },
 "nbformat": 4,
 "nbformat_minor": 4
}
