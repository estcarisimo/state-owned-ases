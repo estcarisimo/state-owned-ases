{
 "cells": [
  {
   "cell_type": "markdown",
   "metadata": {},
   "source": [
    "# 1. Imports"
   ]
  },
  {
   "cell_type": "code",
   "execution_count": 1,
   "metadata": {},
   "outputs": [],
   "source": [
    "import pandas as pd"
   ]
  },
  {
   "cell_type": "markdown",
   "metadata": {},
   "source": [
    "# 2. Load data"
   ]
  },
  {
   "cell_type": "code",
   "execution_count": 2,
   "metadata": {},
   "outputs": [],
   "source": [
    "state_owned_ases = pd.read_csv(\"../../data/minority-state-owned-ases/csv/minority_state_owned_ases.csv\", header=\"infer\")"
   ]
  },
  {
   "cell_type": "markdown",
   "metadata": {},
   "source": [
    "# 3. Get insights of the dataset"
   ]
  },
  {
   "cell_type": "code",
   "execution_count": 3,
   "metadata": {},
   "outputs": [
    {
     "data": {
      "text/html": [
       "<div>\n",
       "<style scoped>\n",
       "    .dataframe tbody tr th:only-of-type {\n",
       "        vertical-align: middle;\n",
       "    }\n",
       "\n",
       "    .dataframe tbody tr th {\n",
       "        vertical-align: top;\n",
       "    }\n",
       "\n",
       "    .dataframe thead th {\n",
       "        text-align: right;\n",
       "    }\n",
       "</style>\n",
       "<table border=\"1\" class=\"dataframe\">\n",
       "  <thead>\n",
       "    <tr style=\"text-align: right;\">\n",
       "      <th></th>\n",
       "      <th>asn</th>\n",
       "      <th>conglomerate</th>\n",
       "      <th>org_id</th>\n",
       "      <th>org_name</th>\n",
       "      <th>ownership_percentage</th>\n",
       "      <th>ownership_cc</th>\n",
       "      <th>ownership_country_name</th>\n",
       "      <th>rir</th>\n",
       "      <th>source</th>\n",
       "      <th>quote</th>\n",
       "      <th>quote_lang</th>\n",
       "      <th>url</th>\n",
       "      <th>additional_info</th>\n",
       "      <th>inputs</th>\n",
       "      <th>parent_org</th>\n",
       "      <th>target_cc</th>\n",
       "      <th>target_country_name</th>\n",
       "    </tr>\n",
       "  </thead>\n",
       "  <tbody>\n",
       "    <tr>\n",
       "      <th>0</th>\n",
       "      <td>35819</td>\n",
       "      <td>AE-ETISALAT</td>\n",
       "      <td>ORG-BAFN1-RIPE</td>\n",
       "      <td>Bayanat Al-Oula For Network Services</td>\n",
       "      <td>27.99</td>\n",
       "      <td>AE</td>\n",
       "      <td>United Arab Emirates</td>\n",
       "      <td>RIPE</td>\n",
       "      <td>Company's website</td>\n",
       "      <td>Etihad Etisalat (Mobily) is a Saudi company es...</td>\n",
       "      <td>English</td>\n",
       "      <td>https://www.mobily.com.sa/wps/portal/personal/...</td>\n",
       "      <td>NaN</td>\n",
       "      <td>G, E</td>\n",
       "      <td>ORG-ETC1-RIPE</td>\n",
       "      <td>SA</td>\n",
       "      <td>Saudi Arabia</td>\n",
       "    </tr>\n",
       "    <tr>\n",
       "      <th>1</th>\n",
       "      <td>35819</td>\n",
       "      <td>AE-ETISALAT</td>\n",
       "      <td>ORG-BAFN1-RIPE</td>\n",
       "      <td>Bayanat Al-Oula For Network Services</td>\n",
       "      <td>27.99</td>\n",
       "      <td>AE</td>\n",
       "      <td>United Arab Emirates</td>\n",
       "      <td>RIPE</td>\n",
       "      <td>Company's website</td>\n",
       "      <td>Etihad Etisalat (Mobily) is a Saudi company es...</td>\n",
       "      <td>English</td>\n",
       "      <td>https://www.mobily.com.sa/wps/portal/personal/...</td>\n",
       "      <td>NaN</td>\n",
       "      <td>G, E</td>\n",
       "      <td>ORG-ETC1-RIPE</td>\n",
       "      <td>SA</td>\n",
       "      <td>Saudi Arabia</td>\n",
       "    </tr>\n",
       "    <tr>\n",
       "      <th>2</th>\n",
       "      <td>48237</td>\n",
       "      <td>AE-ETISALAT</td>\n",
       "      <td>ORG-BAFN1-RIPE</td>\n",
       "      <td>Bayanat Al-Oula For Network Services</td>\n",
       "      <td>27.99</td>\n",
       "      <td>AE</td>\n",
       "      <td>United Arab Emirates</td>\n",
       "      <td>RIPE</td>\n",
       "      <td>Company's website</td>\n",
       "      <td>Etihad Etisalat (Mobily) is a Saudi company es...</td>\n",
       "      <td>English</td>\n",
       "      <td>https://www.mobily.com.sa/wps/portal/personal/...</td>\n",
       "      <td>NaN</td>\n",
       "      <td>G, E</td>\n",
       "      <td>ORG-ETC1-RIPE</td>\n",
       "      <td>SA</td>\n",
       "      <td>Saudi Arabia</td>\n",
       "    </tr>\n",
       "    <tr>\n",
       "      <th>3</th>\n",
       "      <td>38742</td>\n",
       "      <td>AF-WIRELESS</td>\n",
       "      <td>ORG-AW1-AP-APNIC</td>\n",
       "      <td>AWCC</td>\n",
       "      <td>20.00</td>\n",
       "      <td>AF</td>\n",
       "      <td>Afghanistan</td>\n",
       "      <td>APNIC</td>\n",
       "      <td>Company's website</td>\n",
       "      <td>Afghan Wireless is a joint venture between the...</td>\n",
       "      <td>English</td>\n",
       "      <td>https://afghan-wireless.com/about-us/</td>\n",
       "      <td>NaN</td>\n",
       "      <td>G, E</td>\n",
       "      <td>NaN</td>\n",
       "      <td>NaN</td>\n",
       "      <td>NaN</td>\n",
       "    </tr>\n",
       "    <tr>\n",
       "      <th>4</th>\n",
       "      <td>42313</td>\n",
       "      <td>AL-ALBTELECOM</td>\n",
       "      <td>ORG-AS1-RIPE</td>\n",
       "      <td>Albtelecom Sh.a.</td>\n",
       "      <td>16.70</td>\n",
       "      <td>AL</td>\n",
       "      <td>Albania</td>\n",
       "      <td>RIPE</td>\n",
       "      <td>Company's website</td>\n",
       "      <td>The years 2000 found ALBtelecom in a new phase...</td>\n",
       "      <td>English</td>\n",
       "      <td>https://www.albtelecom.al/en/about-albtelecom/...</td>\n",
       "      <td>NaN</td>\n",
       "      <td>G, E, W</td>\n",
       "      <td>NaN</td>\n",
       "      <td>NaN</td>\n",
       "      <td>NaN</td>\n",
       "    </tr>\n",
       "  </tbody>\n",
       "</table>\n",
       "</div>"
      ],
      "text/plain": [
       "     asn   conglomerate            org_id  \\\n",
       "0  35819    AE-ETISALAT    ORG-BAFN1-RIPE   \n",
       "1  35819    AE-ETISALAT    ORG-BAFN1-RIPE   \n",
       "2  48237    AE-ETISALAT    ORG-BAFN1-RIPE   \n",
       "3  38742    AF-WIRELESS  ORG-AW1-AP-APNIC   \n",
       "4  42313  AL-ALBTELECOM      ORG-AS1-RIPE   \n",
       "\n",
       "                               org_name  ownership_percentage ownership_cc  \\\n",
       "0  Bayanat Al-Oula For Network Services                 27.99           AE   \n",
       "1  Bayanat Al-Oula For Network Services                 27.99           AE   \n",
       "2  Bayanat Al-Oula For Network Services                 27.99           AE   \n",
       "3                                  AWCC                 20.00           AF   \n",
       "4                      Albtelecom Sh.a.                 16.70           AL   \n",
       "\n",
       "  ownership_country_name    rir             source  \\\n",
       "0   United Arab Emirates   RIPE  Company's website   \n",
       "1   United Arab Emirates   RIPE  Company's website   \n",
       "2   United Arab Emirates   RIPE  Company's website   \n",
       "3            Afghanistan  APNIC  Company's website   \n",
       "4                Albania   RIPE  Company's website   \n",
       "\n",
       "                                               quote quote_lang  \\\n",
       "0  Etihad Etisalat (Mobily) is a Saudi company es...    English   \n",
       "1  Etihad Etisalat (Mobily) is a Saudi company es...    English   \n",
       "2  Etihad Etisalat (Mobily) is a Saudi company es...    English   \n",
       "3  Afghan Wireless is a joint venture between the...    English   \n",
       "4  The years 2000 found ALBtelecom in a new phase...    English   \n",
       "\n",
       "                                                 url additional_info   inputs  \\\n",
       "0  https://www.mobily.com.sa/wps/portal/personal/...             NaN     G, E   \n",
       "1  https://www.mobily.com.sa/wps/portal/personal/...             NaN     G, E   \n",
       "2  https://www.mobily.com.sa/wps/portal/personal/...             NaN     G, E   \n",
       "3              https://afghan-wireless.com/about-us/             NaN     G, E   \n",
       "4  https://www.albtelecom.al/en/about-albtelecom/...             NaN  G, E, W   \n",
       "\n",
       "      parent_org target_cc target_country_name  \n",
       "0  ORG-ETC1-RIPE        SA        Saudi Arabia  \n",
       "1  ORG-ETC1-RIPE        SA        Saudi Arabia  \n",
       "2  ORG-ETC1-RIPE        SA        Saudi Arabia  \n",
       "3            NaN       NaN                 NaN  \n",
       "4            NaN       NaN                 NaN  "
      ]
     },
     "execution_count": 3,
     "metadata": {},
     "output_type": "execute_result"
    }
   ],
   "source": [
    "state_owned_ases.head()"
   ]
  },
  {
   "cell_type": "code",
   "execution_count": 4,
   "metadata": {},
   "outputs": [
    {
     "name": "stdout",
     "output_type": "stream",
     "text": [
      "The dataset cointains 302 rows and 17 columns\n"
     ]
    }
   ],
   "source": [
    "print(f\"The dataset cointains {state_owned_ases.shape[0]} rows and {state_owned_ases.shape[1]} columns\")"
   ]
  }
 ],
 "metadata": {
  "kernelspec": {
   "display_name": ".state-owned-ases",
   "language": "python",
   "name": ".state-owned-ases"
  },
  "language_info": {
   "codemirror_mode": {
    "name": "ipython",
    "version": 3
   },
   "file_extension": ".py",
   "mimetype": "text/x-python",
   "name": "python",
   "nbconvert_exporter": "python",
   "pygments_lexer": "ipython3",
   "version": "3.8.10"
  }
 },
 "nbformat": 4,
 "nbformat_minor": 4
}
