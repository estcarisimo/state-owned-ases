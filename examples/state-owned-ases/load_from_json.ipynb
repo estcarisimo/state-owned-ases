{
 "cells": [
  {
   "cell_type": "markdown",
   "metadata": {},
   "source": [
    "# 1. Imports"
   ]
  },
  {
   "cell_type": "code",
   "execution_count": 1,
   "metadata": {},
   "outputs": [],
   "source": [
    "import json\n",
    "from pprint import pprint"
   ]
  },
  {
   "cell_type": "markdown",
   "metadata": {},
   "source": [
    "# 2. Load data"
   ]
  },
  {
   "cell_type": "code",
   "execution_count": 2,
   "metadata": {},
   "outputs": [],
   "source": [
    "with open(\"../../data/state-owned-ases/json/state_owned_ases_table_organizations.json\", \"r\") as f:\n",
    "    orgs = json.load(f)"
   ]
  },
  {
   "cell_type": "code",
   "execution_count": 3,
   "metadata": {},
   "outputs": [],
   "source": [
    "with open(\"../../data/state-owned-ases/json/state_owned_ases_table_ases.json\", \"r\") as f:\n",
    "    ases = json.load(f)"
   ]
  },
  {
   "cell_type": "markdown",
   "metadata": {},
   "source": [
    "# 3. Get insights of the dataset"
   ]
  },
  {
   "cell_type": "code",
   "execution_count": 4,
   "metadata": {},
   "outputs": [
    {
     "name": "stdout",
     "output_type": "stream",
     "text": [
      "[{'additional_info': None,\n",
      "  'conglomerate': 'CO-IXA',\n",
      "  'inputs': 'W, O',\n",
      "  'org_id': '@aut-18678-LACNIC',\n",
      "  'org_name': 'INTERNEXA S.A. E.S.P',\n",
      "  'ownership_cc': 'CO',\n",
      "  'ownership_country_name': 'Colombia',\n",
      "  'parent_org': None,\n",
      "  'quote': 'Estructura accionaria. Gobierno colombiano: 51.41',\n",
      "  'quote_lang': 'Spanish',\n",
      "  'rir': 'LACNIC',\n",
      "  'source': \"Company's website\",\n",
      "  'target_cc': None,\n",
      "  'target_country_name': None,\n",
      "  'url': 'http://www.isa.co/es/nuestra-compania/Paginas/quienes-somos/composicion-accionaria.aspx'},\n",
      " {'additional_info': None,\n",
      "  'conglomerate': 'CO-IXA',\n",
      "  'inputs': 'W, O',\n",
      "  'org_id': '@aut-262195-LACNIC',\n",
      "  'org_name': 'Transamerican Telecomunication S.A.',\n",
      "  'ownership_cc': 'CO',\n",
      "  'ownership_country_name': 'Colombia',\n",
      "  'parent_org': 'CO-IESA-LACNIC',\n",
      "  'quote': 'Estructura accionaria. Gobierno colombiano: 51.42',\n",
      "  'quote_lang': 'Spanish',\n",
      "  'rir': 'LACNIC',\n",
      "  'source': \"Company's website\",\n",
      "  'target_cc': 'AR',\n",
      "  'target_country_name': 'Argentina',\n",
      "  'url': 'http://www.isa.co/es/nuestra-compania/Paginas/quienes-somos/composicion-accionaria.aspx'},\n",
      " {'additional_info': None,\n",
      "  'conglomerate': 'CO-IXA',\n",
      "  'inputs': 'W, O',\n",
      "  'org_id': '@aut-262589-LACNIC',\n",
      "  'org_name': 'INTERNEXA BRASIL OPERADORA DE TELECOMUNICACOES S.A',\n",
      "  'ownership_cc': 'CO',\n",
      "  'ownership_country_name': 'Colombia',\n",
      "  'parent_org': 'CO-IESA-LACNIC',\n",
      "  'quote': 'Estructura accionaria. Gobierno colombiano: 51.43',\n",
      "  'quote_lang': 'Spanish',\n",
      "  'rir': 'LACNIC',\n",
      "  'source': \"Company's website\",\n",
      "  'target_cc': 'BR',\n",
      "  'target_country_name': 'Brazil',\n",
      "  'url': 'http://www.isa.co/es/nuestra-compania/Paginas/quienes-somos/composicion-accionaria.aspx'}]\n"
     ]
    }
   ],
   "source": [
    "pprint(orgs[:3])"
   ]
  },
  {
   "cell_type": "code",
   "execution_count": 5,
   "metadata": {},
   "outputs": [
    {
     "name": "stdout",
     "output_type": "stream",
     "text": [
      "[{'asn': [10269], 'org_id': '@aut-10269-LACNIC'},\n",
      " {'asn': [10569], 'org_id': '@aut-10569-LACNIC'},\n",
      " {'asn': [11830, 28081], 'org_id': '@aut-11830-LACNIC'}]\n"
     ]
    }
   ],
   "source": [
    "pprint(ases[:3])"
   ]
  },
  {
   "cell_type": "code",
   "execution_count": 6,
   "metadata": {},
   "outputs": [
    {
     "name": "stdout",
     "output_type": "stream",
     "text": [
      "The organization JSON file cointains 467 records\n",
      "The ASes JSON file cointains 467 records\n"
     ]
    }
   ],
   "source": [
    "print(f\"The organization JSON file cointains {len(orgs)} records\")\n",
    "print(f\"The ASes JSON file cointains {len(ases)} records\")"
   ]
  }
 ],
 "metadata": {
  "kernelspec": {
   "display_name": ".state-owned-ases",
   "language": "python",
   "name": ".state-owned-ases"
  },
  "language_info": {
   "codemirror_mode": {
    "name": "ipython",
    "version": 3
   },
   "file_extension": ".py",
   "mimetype": "text/x-python",
   "name": "python",
   "nbconvert_exporter": "python",
   "pygments_lexer": "ipython3",
   "version": "3.8.10"
  }
 },
 "nbformat": 4,
 "nbformat_minor": 4
}
