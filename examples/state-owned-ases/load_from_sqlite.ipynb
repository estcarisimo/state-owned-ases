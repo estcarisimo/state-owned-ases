{
 "cells": [
  {
   "cell_type": "markdown",
   "metadata": {},
   "source": [
    "# 1. Imports"
   ]
  },
  {
   "cell_type": "code",
   "execution_count": 1,
   "metadata": {},
   "outputs": [],
   "source": [
    "import sqlite3"
   ]
  },
  {
   "cell_type": "markdown",
   "metadata": {},
   "source": [
    "# 2. Connect to the database"
   ]
  },
  {
   "cell_type": "code",
   "execution_count": 2,
   "metadata": {},
   "outputs": [],
   "source": [
    "# connect\n",
    "conn = sqlite3.connect('../../data/state-owned-ases/sqlite/state_owned_ases.sqlite')\n",
    "# create a cursos\n",
    "cur = conn.cursor()"
   ]
  },
  {
   "cell_type": "markdown",
   "metadata": {},
   "source": [
    "# 3. Get insights of the dataset"
   ]
  },
  {
   "cell_type": "markdown",
   "metadata": {},
   "source": [
    "## 3.1 Example of organizations table"
   ]
  },
  {
   "cell_type": "markdown",
   "metadata": {},
   "source": [
    "Table schema\n",
    "- ```table_index```\n",
    "- ```conglomerate_name```: name of the conglomerate the company belongs to.\n",
    "- ```org_id```: CAIDA's AS2Org Org ID.\n",
    "- ```org_name```: The name of the organization according to CAIDA's AS2Org records.\n",
    "- ```ownership_cc```: ISO-3361 country code.\n",
    "- ```ownership_country_name```: country name.\n",
    "- ```rir```: country's RIR.\n",
    "- ```source```: Type of confirmation sources that validated the inference.\n",
    "- ```quote```: The exact quote we use to determine the state\n",
    "ownership.\n",
    "- ```quote_lang```: Language of the quote.\n",
    "- ```url```: the URL to the confirmation data source.\n",
    "- ```additional_info```: _(optional)_ In some cases, this record adds some details to understand the state ownership _(e.g., specifying that a hedge fund is state-owned)_\n",
    "- ```inputs```: The input(s) data source(s) that caused this organization to be originally added to the candidate list (the associated research paper describes candidate lists). We abbreviate the input sources using the following convention:\n",
    "  - **G**: Country-level AS geolocation.\n",
    "  - **E**: APNIC eyeballs dataset.\n",
    "  - **C**: Country-Level Transit Influence.\n",
    "  - **O**: Orbis.\n",
    "  - **W**: Wikipedia \\& Freedom House.\n",
    "- ```parent_org```: _(optional, only for foreign subsidiaries)_ the parent company's Org ID\n",
    "- ```target_cc```: _(optional, only for foreign subsidiaries)_ The ISO-3361 country code where the company is intended to operate.\n",
    "- ```target_country_name```: _(optional, only for foreign subsidiaries)_ The name of the country where the company is intended to operate."
   ]
  },
  {
   "cell_type": "code",
   "execution_count": 3,
   "metadata": {},
   "outputs": [
    {
     "data": {
      "text/plain": [
       "[(0,\n",
       "  'CO-IXA',\n",
       "  '@aut-18678-LACNIC',\n",
       "  'INTERNEXA S.A. E.S.P',\n",
       "  'CO',\n",
       "  'Colombia',\n",
       "  'LACNIC',\n",
       "  \"Company's website\",\n",
       "  'Estructura accionaria. Gobierno colombiano: 51.41',\n",
       "  'Spanish',\n",
       "  'http://www.isa.co/es/nuestra-compania/Paginas/quienes-somos/composicion-accionaria.aspx',\n",
       "  None,\n",
       "  'W, O',\n",
       "  None,\n",
       "  None,\n",
       "  None)]"
      ]
     },
     "execution_count": 3,
     "metadata": {},
     "output_type": "execute_result"
    }
   ],
   "source": [
    "# Execute query\n",
    "cur.execute(\"SELECT * FROM organizations LIMIT 1;\")\n",
    "# Retrieve data\n",
    "cur.fetchall()"
   ]
  },
  {
   "cell_type": "markdown",
   "metadata": {},
   "source": [
    "## 3.2 Example of ASes table"
   ]
  },
  {
   "cell_type": "markdown",
   "metadata": {},
   "source": [
    "Table schema\n",
    "- ```table_index```\n",
    "- ```org_id```: CAIDA AS2Org's Org ID\n",
    "- ```asn```: Autonomous System Number associated with that ```org_id```"
   ]
  },
  {
   "cell_type": "code",
   "execution_count": 4,
   "metadata": {},
   "outputs": [
    {
     "data": {
      "text/plain": [
       "[(0, '@aut-18678-LACNIC', 18678),\n",
       " (1, '@aut-262195-LACNIC', 262195),\n",
       " (2, '@aut-262589-LACNIC', 262589),\n",
       " (3, '@aut-28032-LACNIC', 28032),\n",
       " (4, '@aut-52280-LACNIC', 52280)]"
      ]
     },
     "execution_count": 4,
     "metadata": {},
     "output_type": "execute_result"
    }
   ],
   "source": [
    "# Execute query\n",
    "cur.execute(\"SELECT * FROM ases LIMIT 5;\")\n",
    "# Retrieve data\n",
    "cur.fetchall()"
   ]
  },
  {
   "cell_type": "markdown",
   "metadata": {},
   "source": [
    "# 3.3 Table sizes"
   ]
  },
  {
   "cell_type": "code",
   "execution_count": 5,
   "metadata": {},
   "outputs": [
    {
     "name": "stdout",
     "output_type": "stream",
     "text": [
      "The organizations table cointains 467 rows\n"
     ]
    }
   ],
   "source": [
    "# Execute query\n",
    "cur.execute(\"SELECT COUNT(*) FROM organizations;\")\n",
    "print(f\"The organizations table cointains {cur.fetchall()[0][0]} rows\")"
   ]
  },
  {
   "cell_type": "code",
   "execution_count": 6,
   "metadata": {},
   "outputs": [
    {
     "name": "stdout",
     "output_type": "stream",
     "text": [
      "The ASes table cointains 989 rows\n"
     ]
    }
   ],
   "source": [
    "# Execute query\n",
    "cur.execute(\"SELECT COUNT(*) FROM ases;\")\n",
    "print(f\"The ASes table cointains {cur.fetchall()[0][0]} rows\")"
   ]
  }
 ],
 "metadata": {
  "kernelspec": {
   "display_name": ".state-owned-ases",
   "language": "python",
   "name": ".state-owned-ases"
  },
  "language_info": {
   "codemirror_mode": {
    "name": "ipython",
    "version": 3
   },
   "file_extension": ".py",
   "mimetype": "text/x-python",
   "name": "python",
   "nbconvert_exporter": "python",
   "pygments_lexer": "ipython3",
   "version": "3.8.10"
  }
 },
 "nbformat": 4,
 "nbformat_minor": 4
}
